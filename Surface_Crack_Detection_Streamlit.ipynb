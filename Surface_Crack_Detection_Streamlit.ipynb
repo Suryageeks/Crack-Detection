{
  "nbformat": 4,
  "nbformat_minor": 0,
  "metadata": {
    "colab": {
      "name": "Surface_Crack_Streamlit_File.ipynb",
      "provenance": [],
      "collapsed_sections": [],
      "include_colab_link": true
    },
    "kernelspec": {
      "name": "python3",
      "display_name": "Python 3"
    },
    "language_info": {
      "name": "python"
    }
  },
  "cells": [
    {
      "cell_type": "markdown",
      "metadata": {
        "id": "view-in-github",
        "colab_type": "text"
      },
      "source": [
        "<a href=\"https://colab.research.google.com/github/Suryageeks/Crack-Detection/blob/main/Surface_Crack_Detection_Streamlit.ipynb\" target=\"_parent\"><img src=\"https://colab.research.google.com/assets/colab-badge.svg\" alt=\"Open In Colab\"/></a>"
      ]
    },
    {
      "cell_type": "code",
      "metadata": {
        "colab": {
          "base_uri": "https://localhost:8080/",
          "height": 606
        },
        "id": "QcdQhpmXct55",
        "outputId": "6ad0f838-d5a3-455e-b076-b9da04c34640"
      },
      "source": [
        "!pip install ipython~=5.5.0\n",
        "# !pip install ipykernel~=4.10"
      ],
      "execution_count": null,
      "outputs": [
        {
          "output_type": "stream",
          "name": "stdout",
          "text": [
            "Collecting ipython~=5.5.0\n",
            "  Downloading ipython-5.5.0-py3-none-any.whl (758 kB)\n",
            "\u001b[?25l\r\u001b[K     |▍                               | 10 kB 14.8 MB/s eta 0:00:01\r\u001b[K     |▉                               | 20 kB 19.3 MB/s eta 0:00:01\r\u001b[K     |█▎                              | 30 kB 23.5 MB/s eta 0:00:01\r\u001b[K     |█▊                              | 40 kB 25.3 MB/s eta 0:00:01\r\u001b[K     |██▏                             | 51 kB 27.6 MB/s eta 0:00:01\r\u001b[K     |██▋                             | 61 kB 30.2 MB/s eta 0:00:01\r\u001b[K     |███                             | 71 kB 31.5 MB/s eta 0:00:01\r\u001b[K     |███▌                            | 81 kB 32.7 MB/s eta 0:00:01\r\u001b[K     |███▉                            | 92 kB 33.7 MB/s eta 0:00:01\r\u001b[K     |████▎                           | 102 kB 30.4 MB/s eta 0:00:01\r\u001b[K     |████▊                           | 112 kB 30.4 MB/s eta 0:00:01\r\u001b[K     |█████▏                          | 122 kB 30.4 MB/s eta 0:00:01\r\u001b[K     |█████▋                          | 133 kB 30.4 MB/s eta 0:00:01\r\u001b[K     |██████                          | 143 kB 30.4 MB/s eta 0:00:01\r\u001b[K     |██████▌                         | 153 kB 30.4 MB/s eta 0:00:01\r\u001b[K     |███████                         | 163 kB 30.4 MB/s eta 0:00:01\r\u001b[K     |███████▍                        | 174 kB 30.4 MB/s eta 0:00:01\r\u001b[K     |███████▊                        | 184 kB 30.4 MB/s eta 0:00:01\r\u001b[K     |████████▏                       | 194 kB 30.4 MB/s eta 0:00:01\r\u001b[K     |████████▋                       | 204 kB 30.4 MB/s eta 0:00:01\r\u001b[K     |█████████                       | 215 kB 30.4 MB/s eta 0:00:01\r\u001b[K     |█████████▌                      | 225 kB 30.4 MB/s eta 0:00:01\r\u001b[K     |██████████                      | 235 kB 30.4 MB/s eta 0:00:01\r\u001b[K     |██████████▍                     | 245 kB 30.4 MB/s eta 0:00:01\r\u001b[K     |██████████▉                     | 256 kB 30.4 MB/s eta 0:00:01\r\u001b[K     |███████████▎                    | 266 kB 30.4 MB/s eta 0:00:01\r\u001b[K     |███████████▋                    | 276 kB 30.4 MB/s eta 0:00:01\r\u001b[K     |████████████                    | 286 kB 30.4 MB/s eta 0:00:01\r\u001b[K     |████████████▌                   | 296 kB 30.4 MB/s eta 0:00:01\r\u001b[K     |█████████████                   | 307 kB 30.4 MB/s eta 0:00:01\r\u001b[K     |█████████████▍                  | 317 kB 30.4 MB/s eta 0:00:01\r\u001b[K     |█████████████▉                  | 327 kB 30.4 MB/s eta 0:00:01\r\u001b[K     |██████████████▎                 | 337 kB 30.4 MB/s eta 0:00:01\r\u001b[K     |██████████████▊                 | 348 kB 30.4 MB/s eta 0:00:01\r\u001b[K     |███████████████▏                | 358 kB 30.4 MB/s eta 0:00:01\r\u001b[K     |███████████████▌                | 368 kB 30.4 MB/s eta 0:00:01\r\u001b[K     |████████████████                | 378 kB 30.4 MB/s eta 0:00:01\r\u001b[K     |████████████████▍               | 389 kB 30.4 MB/s eta 0:00:01\r\u001b[K     |████████████████▉               | 399 kB 30.4 MB/s eta 0:00:01\r\u001b[K     |█████████████████▎              | 409 kB 30.4 MB/s eta 0:00:01\r\u001b[K     |█████████████████▊              | 419 kB 30.4 MB/s eta 0:00:01\r\u001b[K     |██████████████████▏             | 430 kB 30.4 MB/s eta 0:00:01\r\u001b[K     |██████████████████▋             | 440 kB 30.4 MB/s eta 0:00:01\r\u001b[K     |███████████████████             | 450 kB 30.4 MB/s eta 0:00:01\r\u001b[K     |███████████████████▍            | 460 kB 30.4 MB/s eta 0:00:01\r\u001b[K     |███████████████████▉            | 471 kB 30.4 MB/s eta 0:00:01\r\u001b[K     |████████████████████▎           | 481 kB 30.4 MB/s eta 0:00:01\r\u001b[K     |████████████████████▊           | 491 kB 30.4 MB/s eta 0:00:01\r\u001b[K     |█████████████████████▏          | 501 kB 30.4 MB/s eta 0:00:01\r\u001b[K     |█████████████████████▋          | 512 kB 30.4 MB/s eta 0:00:01\r\u001b[K     |██████████████████████          | 522 kB 30.4 MB/s eta 0:00:01\r\u001b[K     |██████████████████████▌         | 532 kB 30.4 MB/s eta 0:00:01\r\u001b[K     |██████████████████████▉         | 542 kB 30.4 MB/s eta 0:00:01\r\u001b[K     |███████████████████████▎        | 552 kB 30.4 MB/s eta 0:00:01\r\u001b[K     |███████████████████████▊        | 563 kB 30.4 MB/s eta 0:00:01\r\u001b[K     |████████████████████████▏       | 573 kB 30.4 MB/s eta 0:00:01\r\u001b[K     |████████████████████████▋       | 583 kB 30.4 MB/s eta 0:00:01\r\u001b[K     |█████████████████████████       | 593 kB 30.4 MB/s eta 0:00:01\r\u001b[K     |█████████████████████████▌      | 604 kB 30.4 MB/s eta 0:00:01\r\u001b[K     |██████████████████████████      | 614 kB 30.4 MB/s eta 0:00:01\r\u001b[K     |██████████████████████████▍     | 624 kB 30.4 MB/s eta 0:00:01\r\u001b[K     |██████████████████████████▊     | 634 kB 30.4 MB/s eta 0:00:01\r\u001b[K     |███████████████████████████▏    | 645 kB 30.4 MB/s eta 0:00:01\r\u001b[K     |███████████████████████████▋    | 655 kB 30.4 MB/s eta 0:00:01\r\u001b[K     |████████████████████████████    | 665 kB 30.4 MB/s eta 0:00:01\r\u001b[K     |████████████████████████████▌   | 675 kB 30.4 MB/s eta 0:00:01\r\u001b[K     |█████████████████████████████   | 686 kB 30.4 MB/s eta 0:00:01\r\u001b[K     |█████████████████████████████▍  | 696 kB 30.4 MB/s eta 0:00:01\r\u001b[K     |█████████████████████████████▉  | 706 kB 30.4 MB/s eta 0:00:01\r\u001b[K     |██████████████████████████████▎ | 716 kB 30.4 MB/s eta 0:00:01\r\u001b[K     |██████████████████████████████▋ | 727 kB 30.4 MB/s eta 0:00:01\r\u001b[K     |███████████████████████████████ | 737 kB 30.4 MB/s eta 0:00:01\r\u001b[K     |███████████████████████████████▌| 747 kB 30.4 MB/s eta 0:00:01\r\u001b[K     |████████████████████████████████| 757 kB 30.4 MB/s eta 0:00:01\r\u001b[K     |████████████████████████████████| 758 kB 30.4 MB/s \n",
            "\u001b[?25hRequirement already satisfied: setuptools>=18.5 in /usr/local/lib/python3.7/dist-packages (from ipython~=5.5.0) (57.4.0)\n",
            "Requirement already satisfied: pexpect in /usr/local/lib/python3.7/dist-packages (from ipython~=5.5.0) (4.8.0)\n",
            "Requirement already satisfied: pickleshare in /usr/local/lib/python3.7/dist-packages (from ipython~=5.5.0) (0.7.5)\n",
            "Collecting prompt-toolkit<2.0.0,>=1.0.4\n",
            "  Downloading prompt_toolkit-1.0.18-py3-none-any.whl (245 kB)\n",
            "\u001b[K     |████████████████████████████████| 245 kB 56.0 MB/s \n",
            "\u001b[?25hRequirement already satisfied: pygments in /usr/local/lib/python3.7/dist-packages (from ipython~=5.5.0) (2.6.1)\n",
            "Requirement already satisfied: traitlets>=4.2 in /usr/local/lib/python3.7/dist-packages (from ipython~=5.5.0) (5.1.0)\n",
            "Requirement already satisfied: decorator in /usr/local/lib/python3.7/dist-packages (from ipython~=5.5.0) (4.4.2)\n",
            "Requirement already satisfied: simplegeneric>0.8 in /usr/local/lib/python3.7/dist-packages (from ipython~=5.5.0) (0.8.1)\n",
            "Requirement already satisfied: wcwidth in /usr/local/lib/python3.7/dist-packages (from prompt-toolkit<2.0.0,>=1.0.4->ipython~=5.5.0) (0.2.5)\n",
            "Requirement already satisfied: six>=1.9.0 in /usr/local/lib/python3.7/dist-packages (from prompt-toolkit<2.0.0,>=1.0.4->ipython~=5.5.0) (1.15.0)\n",
            "Requirement already satisfied: ptyprocess>=0.5 in /usr/local/lib/python3.7/dist-packages (from pexpect->ipython~=5.5.0) (0.7.0)\n",
            "Installing collected packages: prompt-toolkit, ipython\n",
            "  Attempting uninstall: prompt-toolkit\n",
            "    Found existing installation: prompt-toolkit 3.0.20\n",
            "    Uninstalling prompt-toolkit-3.0.20:\n",
            "      Successfully uninstalled prompt-toolkit-3.0.20\n",
            "  Attempting uninstall: ipython\n",
            "    Found existing installation: ipython 7.28.0\n",
            "    Uninstalling ipython-7.28.0:\n",
            "      Successfully uninstalled ipython-7.28.0\n",
            "Successfully installed ipython-5.5.0 prompt-toolkit-1.0.18\n"
          ]
        },
        {
          "output_type": "display_data",
          "data": {
            "application/vnd.colab-display-data+json": {
              "pip_warning": {
                "packages": [
                  "IPython",
                  "prompt_toolkit"
                ]
              }
            }
          },
          "metadata": {}
        }
      ]
    },
    {
      "cell_type": "code",
      "metadata": {
        "colab": {
          "base_uri": "https://localhost:8080/"
        },
        "id": "wYeQehR_cZhZ",
        "outputId": "d39331cd-32ee-4bf9-bf78-1f5ae88731de"
      },
      "source": [
        "!pip install -q streamlit"
      ],
      "execution_count": null,
      "outputs": [
        {
          "output_type": "stream",
          "name": "stdout",
          "text": [
            "\u001b[31mERROR: pip's dependency resolver does not currently take into account all the packages that are installed. This behaviour is the source of the following dependency conflicts.\n",
            "jupyter-console 5.2.0 requires prompt-toolkit<2.0.0,>=1.0.0, but you have prompt-toolkit 3.0.20 which is incompatible.\n",
            "google-colab 1.0.0 requires ipykernel~=4.10, but you have ipykernel 6.4.1 which is incompatible.\n",
            "google-colab 1.0.0 requires ipython~=5.5.0, but you have ipython 7.28.0 which is incompatible.\u001b[0m\n"
          ]
        }
      ]
    },
    {
      "cell_type": "code",
      "metadata": {
        "colab": {
          "base_uri": "https://localhost:8080/"
        },
        "id": "GqwaG2kBlcb6",
        "outputId": "66bd02e8-a22d-4861-d15d-480b8b475fb6"
      },
      "source": [
        "pip install pyngrok"
      ],
      "execution_count": null,
      "outputs": [
        {
          "output_type": "stream",
          "name": "stdout",
          "text": [
            "Collecting pyngrok\n",
            "  Downloading pyngrok-5.1.0.tar.gz (745 kB)\n",
            "\u001b[?25l\r\u001b[K     |▍                               | 10 kB 22.9 MB/s eta 0:00:01\r\u001b[K     |▉                               | 20 kB 27.0 MB/s eta 0:00:01\r\u001b[K     |█▎                              | 30 kB 32.7 MB/s eta 0:00:01\r\u001b[K     |█▊                              | 40 kB 35.6 MB/s eta 0:00:01\r\u001b[K     |██▏                             | 51 kB 36.6 MB/s eta 0:00:01\r\u001b[K     |██▋                             | 61 kB 31.2 MB/s eta 0:00:01\r\u001b[K     |███                             | 71 kB 28.6 MB/s eta 0:00:01\r\u001b[K     |███▌                            | 81 kB 29.9 MB/s eta 0:00:01\r\u001b[K     |████                            | 92 kB 32.0 MB/s eta 0:00:01\r\u001b[K     |████▍                           | 102 kB 29.7 MB/s eta 0:00:01\r\u001b[K     |████▉                           | 112 kB 29.7 MB/s eta 0:00:01\r\u001b[K     |█████▎                          | 122 kB 29.7 MB/s eta 0:00:01\r\u001b[K     |█████▊                          | 133 kB 29.7 MB/s eta 0:00:01\r\u001b[K     |██████▏                         | 143 kB 29.7 MB/s eta 0:00:01\r\u001b[K     |██████▋                         | 153 kB 29.7 MB/s eta 0:00:01\r\u001b[K     |███████                         | 163 kB 29.7 MB/s eta 0:00:01\r\u001b[K     |███████▌                        | 174 kB 29.7 MB/s eta 0:00:01\r\u001b[K     |████████                        | 184 kB 29.7 MB/s eta 0:00:01\r\u001b[K     |████████▍                       | 194 kB 29.7 MB/s eta 0:00:01\r\u001b[K     |████████▉                       | 204 kB 29.7 MB/s eta 0:00:01\r\u001b[K     |█████████▎                      | 215 kB 29.7 MB/s eta 0:00:01\r\u001b[K     |█████████▊                      | 225 kB 29.7 MB/s eta 0:00:01\r\u001b[K     |██████████▏                     | 235 kB 29.7 MB/s eta 0:00:01\r\u001b[K     |██████████▌                     | 245 kB 29.7 MB/s eta 0:00:01\r\u001b[K     |███████████                     | 256 kB 29.7 MB/s eta 0:00:01\r\u001b[K     |███████████▍                    | 266 kB 29.7 MB/s eta 0:00:01\r\u001b[K     |███████████▉                    | 276 kB 29.7 MB/s eta 0:00:01\r\u001b[K     |████████████▎                   | 286 kB 29.7 MB/s eta 0:00:01\r\u001b[K     |████████████▊                   | 296 kB 29.7 MB/s eta 0:00:01\r\u001b[K     |█████████████▏                  | 307 kB 29.7 MB/s eta 0:00:01\r\u001b[K     |█████████████▋                  | 317 kB 29.7 MB/s eta 0:00:01\r\u001b[K     |██████████████                  | 327 kB 29.7 MB/s eta 0:00:01\r\u001b[K     |██████████████▌                 | 337 kB 29.7 MB/s eta 0:00:01\r\u001b[K     |███████████████                 | 348 kB 29.7 MB/s eta 0:00:01\r\u001b[K     |███████████████▍                | 358 kB 29.7 MB/s eta 0:00:01\r\u001b[K     |███████████████▉                | 368 kB 29.7 MB/s eta 0:00:01\r\u001b[K     |████████████████▎               | 378 kB 29.7 MB/s eta 0:00:01\r\u001b[K     |████████████████▊               | 389 kB 29.7 MB/s eta 0:00:01\r\u001b[K     |█████████████████▏              | 399 kB 29.7 MB/s eta 0:00:01\r\u001b[K     |█████████████████▋              | 409 kB 29.7 MB/s eta 0:00:01\r\u001b[K     |██████████████████              | 419 kB 29.7 MB/s eta 0:00:01\r\u001b[K     |██████████████████▌             | 430 kB 29.7 MB/s eta 0:00:01\r\u001b[K     |███████████████████             | 440 kB 29.7 MB/s eta 0:00:01\r\u001b[K     |███████████████████▍            | 450 kB 29.7 MB/s eta 0:00:01\r\u001b[K     |███████████████████▉            | 460 kB 29.7 MB/s eta 0:00:01\r\u001b[K     |████████████████████▎           | 471 kB 29.7 MB/s eta 0:00:01\r\u001b[K     |████████████████████▋           | 481 kB 29.7 MB/s eta 0:00:01\r\u001b[K     |█████████████████████           | 491 kB 29.7 MB/s eta 0:00:01\r\u001b[K     |█████████████████████▌          | 501 kB 29.7 MB/s eta 0:00:01\r\u001b[K     |██████████████████████          | 512 kB 29.7 MB/s eta 0:00:01\r\u001b[K     |██████████████████████▍         | 522 kB 29.7 MB/s eta 0:00:01\r\u001b[K     |██████████████████████▉         | 532 kB 29.7 MB/s eta 0:00:01\r\u001b[K     |███████████████████████▎        | 542 kB 29.7 MB/s eta 0:00:01\r\u001b[K     |███████████████████████▊        | 552 kB 29.7 MB/s eta 0:00:01\r\u001b[K     |████████████████████████▏       | 563 kB 29.7 MB/s eta 0:00:01\r\u001b[K     |████████████████████████▋       | 573 kB 29.7 MB/s eta 0:00:01\r\u001b[K     |█████████████████████████       | 583 kB 29.7 MB/s eta 0:00:01\r\u001b[K     |█████████████████████████▌      | 593 kB 29.7 MB/s eta 0:00:01\r\u001b[K     |██████████████████████████      | 604 kB 29.7 MB/s eta 0:00:01\r\u001b[K     |██████████████████████████▍     | 614 kB 29.7 MB/s eta 0:00:01\r\u001b[K     |██████████████████████████▉     | 624 kB 29.7 MB/s eta 0:00:01\r\u001b[K     |███████████████████████████▎    | 634 kB 29.7 MB/s eta 0:00:01\r\u001b[K     |███████████████████████████▊    | 645 kB 29.7 MB/s eta 0:00:01\r\u001b[K     |████████████████████████████▏   | 655 kB 29.7 MB/s eta 0:00:01\r\u001b[K     |████████████████████████████▋   | 665 kB 29.7 MB/s eta 0:00:01\r\u001b[K     |█████████████████████████████   | 675 kB 29.7 MB/s eta 0:00:01\r\u001b[K     |█████████████████████████████▌  | 686 kB 29.7 MB/s eta 0:00:01\r\u001b[K     |██████████████████████████████  | 696 kB 29.7 MB/s eta 0:00:01\r\u001b[K     |██████████████████████████████▍ | 706 kB 29.7 MB/s eta 0:00:01\r\u001b[K     |██████████████████████████████▊ | 716 kB 29.7 MB/s eta 0:00:01\r\u001b[K     |███████████████████████████████▏| 727 kB 29.7 MB/s eta 0:00:01\r\u001b[K     |███████████████████████████████▋| 737 kB 29.7 MB/s eta 0:00:01\r\u001b[K     |████████████████████████████████| 745 kB 29.7 MB/s \n",
            "\u001b[?25hRequirement already satisfied: PyYAML in /usr/local/lib/python3.7/dist-packages (from pyngrok) (3.13)\n",
            "Building wheels for collected packages: pyngrok\n",
            "  Building wheel for pyngrok (setup.py) ... \u001b[?25l\u001b[?25hdone\n",
            "  Created wheel for pyngrok: filename=pyngrok-5.1.0-py3-none-any.whl size=19006 sha256=d01f82c844e0d8825ffcb30dbc2002b2eb174a734936354584e1dea98cb4a8d6\n",
            "  Stored in directory: /root/.cache/pip/wheels/bf/e6/af/ccf6598ecefecd44104069371795cb9b3afbcd16987f6ccfb3\n",
            "Successfully built pyngrok\n",
            "Installing collected packages: pyngrok\n",
            "Successfully installed pyngrok-5.1.0\n"
          ]
        }
      ]
    },
    {
      "cell_type": "code",
      "metadata": {
        "colab": {
          "base_uri": "https://localhost:8080/"
        },
        "id": "jlfAIPgNdDWd",
        "outputId": "e512f36c-f475-4eae-d3d6-7ac1c5d3d342"
      },
      "source": [
        "%%writefile app.py\n",
        "import streamlit as st\n",
        "import matplotlib.pyplot as plt\n",
        "import tensorflow_hub as hub\n",
        "import numpy as np\n",
        "import tensorflow \n",
        "import tensorflow as tf\n",
        "from tensorflow.keras.models import load_model\n",
        "from tensorflow.keras.preprocessing.image import load_img\n",
        "from tensorflow.keras.preprocessing.image import img_to_array\n",
        "from PIL import Image \n",
        "fig=plt.figure()\n",
        "st.title('Surface Crack Detection')\n",
        "\n",
        "\n",
        "def predict(image):\n",
        "  c_model='ocrack.h5'\n",
        "  IMAGE_SHAPE=(200,200,3)\n",
        "  models=load_model(c_model,compile=False,custom_objects={'KerasLayer': hub.KerasLayer})\n",
        "  test_image=image.resize((200,200))\n",
        "  test_image=img_to_array(test_image)\n",
        "  test_image=test_image/255.0\n",
        "  test_image=np.expand_dims(test_image,axis=0)\n",
        "  classes=['Negative','Positive']\n",
        "  predictions=models.predict(test_image)\n",
        "  scores=tf.nn.softmax(predictions[0])\n",
        "  results={\n",
        "      'Negative':0,\n",
        "      'Positive':1\n",
        "  }\n",
        "  results=f\"{classes[np.argmax(scores)]} with a {(100*np.max(scores)).round(2)}% confidence\"\n",
        "  return results\n",
        "\n",
        "\n",
        "def main():\n",
        "  upload=st.file_uploader('UPLOAD IMAGE',type=['jpg'])\n",
        "  btn=st.button('Predict')\n",
        "  if upload is not None:\n",
        "    image=Image.open(upload)\n",
        "    st.image(image,caption='Uploaded')\n",
        "  if btn:\n",
        "    if upload is None:\n",
        "      st.write('Upload Image!!!')\n",
        "    else:\n",
        "      with st.spinner('Model Loading...'):\n",
        "        plt.imshow(image)\n",
        "        plt.axis('off')\n",
        "        predictions=predict(image)\n",
        "        st.success('Predicted')\n",
        "        st.write(predictions)\n",
        "        st.pyplot(fig)\n",
        "\n",
        "if __name__==\"__main__\":\n",
        "\n",
        "  main()\n",
        "\n"
      ],
      "execution_count": null,
      "outputs": [
        {
          "output_type": "stream",
          "name": "stdout",
          "text": [
            "Overwriting app.py\n"
          ]
        }
      ]
    },
    {
      "cell_type": "code",
      "metadata": {
        "colab": {
          "base_uri": "https://localhost:8080/"
        },
        "id": "cMou-s3cl2Md",
        "outputId": "258e76f4-a6a3-4ac9-e068-751f87d2e838"
      },
      "source": [
        "!ls"
      ],
      "execution_count": null,
      "outputs": [
        {
          "output_type": "stream",
          "name": "stdout",
          "text": [
            "app.py\tocrack.h5  sample_data\n"
          ]
        }
      ]
    },
    {
      "cell_type": "code",
      "metadata": {
        "colab": {
          "base_uri": "https://localhost:8080/"
        },
        "id": "EN4saTX7l6WO",
        "outputId": "f9f8059d-af81-47d4-fb03-10a864865e26"
      },
      "source": [
        "!ngrok authtoken "
      ],
      "execution_count": null,
      "outputs": [
        {
          "output_type": "stream",
          "name": "stdout",
          "text": [
            "Authtoken saved to configuration file: /root/.ngrok2/ngrok.yml\n"
          ]
        }
      ]
    },
    {
      "cell_type": "code",
      "metadata": {
        "id": "jX_246-WmEIM"
      },
      "source": [
        "from pyngrok import ngrok"
      ],
      "execution_count": null,
      "outputs": []
    },
    {
      "cell_type": "code",
      "metadata": {
        "id": "bBX_9yDFmXbv"
      },
      "source": [
        "!streamlit run --server.port 80 app.py&>/dev/null&"
      ],
      "execution_count": null,
      "outputs": []
    },
    {
      "cell_type": "code",
      "metadata": {
        "colab": {
          "base_uri": "https://localhost:8080/"
        },
        "id": "IBzMQmMQmg5J",
        "outputId": "56e3ed17-bdee-47a9-ecdc-65e91e65029b"
      },
      "source": [
        "!pgrep streamlit"
      ],
      "execution_count": null,
      "outputs": [
        {
          "output_type": "stream",
          "name": "stdout",
          "text": [
            "714\n"
          ]
        }
      ]
    },
    {
      "cell_type": "code",
      "metadata": {
        "id": "81GzXaFGmQYA"
      },
      "source": [
        "from pyngrok import ngrok\n",
        "url = ngrok.connect()\n",
        "ssh_tunnel = ngrok.connect(22, \"tcp\")"
      ],
      "execution_count": null,
      "outputs": []
    },
    {
      "cell_type": "code",
      "metadata": {
        "colab": {
          "base_uri": "https://localhost:8080/"
        },
        "id": "PL3HVN-LmtUO",
        "outputId": "320a7db7-cf3c-41a9-8797-fc31a1c0077a"
      },
      "source": [
        "url"
      ],
      "execution_count": null,
      "outputs": [
        {
          "output_type": "execute_result",
          "data": {
            "text/plain": [
              "<NgrokTunnel: \"http://b62e-35-199-28-108.ngrok.io\" -> \"http://localhost:80\">"
            ]
          },
          "metadata": {},
          "execution_count": 19
        }
      ]
    },
    {
      "cell_type": "code",
      "metadata": {
        "id": "mNXPf8AknC-H"
      },
      "source": [
        "ngrok.kill()"
      ],
      "execution_count": null,
      "outputs": []
    }
  ]
}