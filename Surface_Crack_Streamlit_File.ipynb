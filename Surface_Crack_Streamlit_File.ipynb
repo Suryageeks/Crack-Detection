{
  "nbformat": 4,
  "nbformat_minor": 0,
  "metadata": {
    "colab": {
      "name": "Surface_Crack_Streamlit_File.ipynb",
      "provenance": [],
      "collapsed_sections": [],
      "include_colab_link": true
    },
    "kernelspec": {
      "name": "python3",
      "display_name": "Python 3"
    },
    "language_info": {
      "name": "python"
    }
  },
  "cells": [
    {
      "cell_type": "markdown",
      "metadata": {
        "id": "view-in-github",
        "colab_type": "text"
      },
      "source": [
        "<a href=\"https://colab.research.google.com/github/Suryageeks/Crack-Detection/blob/main/Surface_Crack_Streamlit_File.ipynb\" target=\"_parent\"><img src=\"https://colab.research.google.com/assets/colab-badge.svg\" alt=\"Open In Colab\"/></a>"
      ]
    },
    {
      "cell_type": "code",
      "metadata": {
        "id": "QcdQhpmXct55"
      },
      "source": [
        "!pip install -q ipython~=5.5.0\n",
        "!pip install -q ipykernel~=4.10"
      ],
      "execution_count": 1,
      "outputs": []
    },
    {
      "cell_type": "code",
      "metadata": {
        "colab": {
          "base_uri": "https://localhost:8080/"
        },
        "id": "wYeQehR_cZhZ",
        "outputId": "029affea-a5ef-425d-d300-a52ac19f16f2"
      },
      "source": [
        "!pip install -q streamlit"
      ],
      "execution_count": 2,
      "outputs": [
        {
          "output_type": "stream",
          "name": "stdout",
          "text": [
            "\u001b[K     |████████████████████████████████| 8.3 MB 7.9 MB/s \n",
            "\u001b[K     |████████████████████████████████| 76 kB 5.2 MB/s \n",
            "\u001b[K     |████████████████████████████████| 4.3 MB 54.4 MB/s \n",
            "\u001b[K     |████████████████████████████████| 180 kB 57.0 MB/s \n",
            "\u001b[K     |████████████████████████████████| 111 kB 44.3 MB/s \n",
            "\u001b[K     |████████████████████████████████| 63 kB 1.7 MB/s \n",
            "\u001b[K     |████████████████████████████████| 124 kB 51.7 MB/s \n",
            "\u001b[K     |████████████████████████████████| 788 kB 55.9 MB/s \n",
            "\u001b[K     |████████████████████████████████| 370 kB 68.2 MB/s \n",
            "\u001b[?25h  Building wheel for blinker (setup.py) ... \u001b[?25l\u001b[?25hdone\n",
            "\u001b[31mERROR: pip's dependency resolver does not currently take into account all the packages that are installed. This behaviour is the source of the following dependency conflicts.\n",
            "jupyter-console 5.2.0 requires prompt-toolkit<2.0.0,>=1.0.0, but you have prompt-toolkit 3.0.20 which is incompatible.\n",
            "google-colab 1.0.0 requires ipykernel~=4.10, but you have ipykernel 6.4.1 which is incompatible.\n",
            "google-colab 1.0.0 requires ipython~=5.5.0, but you have ipython 7.28.0 which is incompatible.\u001b[0m\n"
          ]
        }
      ]
    },
    {
      "cell_type": "code",
      "metadata": {
        "colab": {
          "base_uri": "https://localhost:8080/"
        },
        "id": "GqwaG2kBlcb6",
        "outputId": "b9aeb883-8da4-4dc2-9d3d-222b92005988"
      },
      "source": [
        "pip install -q pyngrok"
      ],
      "execution_count": 3,
      "outputs": [
        {
          "output_type": "stream",
          "name": "stdout",
          "text": [
            "\u001b[?25l\r\u001b[K     |▍                               | 10 kB 22.7 MB/s eta 0:00:01\r\u001b[K     |▉                               | 20 kB 27.6 MB/s eta 0:00:01\r\u001b[K     |█▎                              | 30 kB 23.1 MB/s eta 0:00:01\r\u001b[K     |█▊                              | 40 kB 18.1 MB/s eta 0:00:01\r\u001b[K     |██▏                             | 51 kB 8.1 MB/s eta 0:00:01\r\u001b[K     |██▋                             | 61 kB 8.7 MB/s eta 0:00:01\r\u001b[K     |███                             | 71 kB 9.1 MB/s eta 0:00:01\r\u001b[K     |███▌                            | 81 kB 10.2 MB/s eta 0:00:01\r\u001b[K     |████                            | 92 kB 7.2 MB/s eta 0:00:01\r\u001b[K     |████▍                           | 102 kB 7.8 MB/s eta 0:00:01\r\u001b[K     |████▉                           | 112 kB 7.8 MB/s eta 0:00:01\r\u001b[K     |█████▎                          | 122 kB 7.8 MB/s eta 0:00:01\r\u001b[K     |█████▊                          | 133 kB 7.8 MB/s eta 0:00:01\r\u001b[K     |██████▏                         | 143 kB 7.8 MB/s eta 0:00:01\r\u001b[K     |██████▋                         | 153 kB 7.8 MB/s eta 0:00:01\r\u001b[K     |███████                         | 163 kB 7.8 MB/s eta 0:00:01\r\u001b[K     |███████▌                        | 174 kB 7.8 MB/s eta 0:00:01\r\u001b[K     |████████                        | 184 kB 7.8 MB/s eta 0:00:01\r\u001b[K     |████████▍                       | 194 kB 7.8 MB/s eta 0:00:01\r\u001b[K     |████████▉                       | 204 kB 7.8 MB/s eta 0:00:01\r\u001b[K     |█████████▎                      | 215 kB 7.8 MB/s eta 0:00:01\r\u001b[K     |█████████▊                      | 225 kB 7.8 MB/s eta 0:00:01\r\u001b[K     |██████████▏                     | 235 kB 7.8 MB/s eta 0:00:01\r\u001b[K     |██████████▌                     | 245 kB 7.8 MB/s eta 0:00:01\r\u001b[K     |███████████                     | 256 kB 7.8 MB/s eta 0:00:01\r\u001b[K     |███████████▍                    | 266 kB 7.8 MB/s eta 0:00:01\r\u001b[K     |███████████▉                    | 276 kB 7.8 MB/s eta 0:00:01\r\u001b[K     |████████████▎                   | 286 kB 7.8 MB/s eta 0:00:01\r\u001b[K     |████████████▊                   | 296 kB 7.8 MB/s eta 0:00:01\r\u001b[K     |█████████████▏                  | 307 kB 7.8 MB/s eta 0:00:01\r\u001b[K     |█████████████▋                  | 317 kB 7.8 MB/s eta 0:00:01\r\u001b[K     |██████████████                  | 327 kB 7.8 MB/s eta 0:00:01\r\u001b[K     |██████████████▌                 | 337 kB 7.8 MB/s eta 0:00:01\r\u001b[K     |███████████████                 | 348 kB 7.8 MB/s eta 0:00:01\r\u001b[K     |███████████████▍                | 358 kB 7.8 MB/s eta 0:00:01\r\u001b[K     |███████████████▉                | 368 kB 7.8 MB/s eta 0:00:01\r\u001b[K     |████████████████▎               | 378 kB 7.8 MB/s eta 0:00:01\r\u001b[K     |████████████████▊               | 389 kB 7.8 MB/s eta 0:00:01\r\u001b[K     |█████████████████▏              | 399 kB 7.8 MB/s eta 0:00:01\r\u001b[K     |█████████████████▋              | 409 kB 7.8 MB/s eta 0:00:01\r\u001b[K     |██████████████████              | 419 kB 7.8 MB/s eta 0:00:01\r\u001b[K     |██████████████████▌             | 430 kB 7.8 MB/s eta 0:00:01\r\u001b[K     |███████████████████             | 440 kB 7.8 MB/s eta 0:00:01\r\u001b[K     |███████████████████▍            | 450 kB 7.8 MB/s eta 0:00:01\r\u001b[K     |███████████████████▉            | 460 kB 7.8 MB/s eta 0:00:01\r\u001b[K     |████████████████████▎           | 471 kB 7.8 MB/s eta 0:00:01\r\u001b[K     |████████████████████▋           | 481 kB 7.8 MB/s eta 0:00:01\r\u001b[K     |█████████████████████           | 491 kB 7.8 MB/s eta 0:00:01\r\u001b[K     |█████████████████████▌          | 501 kB 7.8 MB/s eta 0:00:01\r\u001b[K     |██████████████████████          | 512 kB 7.8 MB/s eta 0:00:01\r\u001b[K     |██████████████████████▍         | 522 kB 7.8 MB/s eta 0:00:01\r\u001b[K     |██████████████████████▉         | 532 kB 7.8 MB/s eta 0:00:01\r\u001b[K     |███████████████████████▎        | 542 kB 7.8 MB/s eta 0:00:01\r\u001b[K     |███████████████████████▊        | 552 kB 7.8 MB/s eta 0:00:01\r\u001b[K     |████████████████████████▏       | 563 kB 7.8 MB/s eta 0:00:01\r\u001b[K     |████████████████████████▋       | 573 kB 7.8 MB/s eta 0:00:01\r\u001b[K     |█████████████████████████       | 583 kB 7.8 MB/s eta 0:00:01\r\u001b[K     |█████████████████████████▌      | 593 kB 7.8 MB/s eta 0:00:01\r\u001b[K     |██████████████████████████      | 604 kB 7.8 MB/s eta 0:00:01\r\u001b[K     |██████████████████████████▍     | 614 kB 7.8 MB/s eta 0:00:01\r\u001b[K     |██████████████████████████▉     | 624 kB 7.8 MB/s eta 0:00:01\r\u001b[K     |███████████████████████████▎    | 634 kB 7.8 MB/s eta 0:00:01\r\u001b[K     |███████████████████████████▊    | 645 kB 7.8 MB/s eta 0:00:01\r\u001b[K     |████████████████████████████▏   | 655 kB 7.8 MB/s eta 0:00:01\r\u001b[K     |████████████████████████████▋   | 665 kB 7.8 MB/s eta 0:00:01\r\u001b[K     |█████████████████████████████   | 675 kB 7.8 MB/s eta 0:00:01\r\u001b[K     |█████████████████████████████▌  | 686 kB 7.8 MB/s eta 0:00:01\r\u001b[K     |██████████████████████████████  | 696 kB 7.8 MB/s eta 0:00:01\r\u001b[K     |██████████████████████████████▍ | 706 kB 7.8 MB/s eta 0:00:01\r\u001b[K     |██████████████████████████████▊ | 716 kB 7.8 MB/s eta 0:00:01\r\u001b[K     |███████████████████████████████▏| 727 kB 7.8 MB/s eta 0:00:01\r\u001b[K     |███████████████████████████████▋| 737 kB 7.8 MB/s eta 0:00:01\r\u001b[K     |████████████████████████████████| 745 kB 7.8 MB/s \n",
            "\u001b[?25h  Building wheel for pyngrok (setup.py) ... \u001b[?25l\u001b[?25hdone\n"
          ]
        }
      ]
    },
    {
      "cell_type": "code",
      "metadata": {
        "colab": {
          "base_uri": "https://localhost:8080/"
        },
        "id": "jlfAIPgNdDWd",
        "outputId": "8945156a-2ec9-401d-b6de-be3068f00e97"
      },
      "source": [
        "%%writefile app.py\n",
        "import streamlit as st\n",
        "import matplotlib.pyplot as plt\n",
        "import tensorflow_hub as hub\n",
        "import numpy as np\n",
        "import tensorflow \n",
        "import tensorflow as tf\n",
        "from tensorflow.keras.models import load_model\n",
        "from tensorflow.keras.preprocessing.image import load_img\n",
        "from tensorflow.keras.preprocessing.image import img_to_array\n",
        "from PIL import Image \n",
        "fig=plt.figure()\n",
        "st.title('Surface Crack Detection')\n",
        "\n",
        "\n",
        "def predict(image):\n",
        "  c_model='ocrack.h5'\n",
        "  IMAGE_SHAPE=(200,200,3)\n",
        "  models=load_model(c_model,compile=False,custom_objects={'KerasLayer': hub.KerasLayer})\n",
        "  test_image=image.resize((200,200))\n",
        "  test_image=img_to_array(test_image)\n",
        "  test_image=test_image/255.0\n",
        "  test_image=np.expand_dims(test_image,axis=0)\n",
        "  classes=['Negative','Positive']\n",
        "  predictions=models.predict(test_image)\n",
        "  scores=tf.nn.softmax(predictions[0])\n",
        "  results={\n",
        "      'Negative':0,\n",
        "      'Positive':1\n",
        "  }\n",
        "  results=f\"{classes[np.argmax(scores)]} with a {(100*np.max(scores)).round(2)}% confidence\"\n",
        "  return results\n",
        "\n",
        "\n",
        "def main():\n",
        "  upload=st.file_uploader('UPLOAD IMAGE',type=['jpg'])\n",
        "  btn=st.button('Predict')\n",
        "  if upload is not None:\n",
        "    image=Image.open(upload)\n",
        "    st.image(image,caption='Uploaded')\n",
        "  if btn:\n",
        "    if upload is None:\n",
        "      st.write('Upload Image!!!')\n",
        "    else:\n",
        "      with st.spinner('Model Loading...'):\n",
        "        plt.imshow(image)\n",
        "        plt.axis('off')\n",
        "        predictions=predict(image)\n",
        "        st.success('Predicted')\n",
        "        st.write(predictions)\n",
        "        st.pyplot(fig)\n",
        "\n",
        "if __name__==\"__main__\":\n",
        "\n",
        "  main()\n",
        "\n"
      ],
      "execution_count": 4,
      "outputs": [
        {
          "output_type": "stream",
          "name": "stdout",
          "text": [
            "Writing app.py\n"
          ]
        }
      ]
    },
    {
      "cell_type": "code",
      "metadata": {
        "colab": {
          "base_uri": "https://localhost:8080/"
        },
        "id": "cMou-s3cl2Md",
        "outputId": "258e76f4-a6a3-4ac9-e068-751f87d2e838"
      },
      "source": [
        "!ls"
      ],
      "execution_count": null,
      "outputs": [
        {
          "output_type": "stream",
          "name": "stdout",
          "text": [
            "app.py\tocrack.h5  sample_data\n"
          ]
        }
      ]
    },
    {
      "cell_type": "code",
      "metadata": {
        "colab": {
          "base_uri": "https://localhost:8080/"
        },
        "id": "EN4saTX7l6WO",
        "outputId": "f9f8059d-af81-47d4-fb03-10a864865e26"
      },
      "source": [
        "!ngrok authtoken 1sxmRs5h5d7BDAp7YxTwILbkH9N_6meKLhsKjFZgRx7trFwmW"
      ],
      "execution_count": null,
      "outputs": [
        {
          "output_type": "stream",
          "name": "stdout",
          "text": [
            "Authtoken saved to configuration file: /root/.ngrok2/ngrok.yml\n"
          ]
        }
      ]
    },
    {
      "cell_type": "code",
      "metadata": {
        "id": "jX_246-WmEIM"
      },
      "source": [
        "from pyngrok import ngrok"
      ],
      "execution_count": null,
      "outputs": []
    },
    {
      "cell_type": "code",
      "metadata": {
        "id": "bBX_9yDFmXbv"
      },
      "source": [
        "!streamlit run --server.port 80 app.py&>/dev/null&"
      ],
      "execution_count": null,
      "outputs": []
    },
    {
      "cell_type": "code",
      "metadata": {
        "colab": {
          "base_uri": "https://localhost:8080/"
        },
        "id": "IBzMQmMQmg5J",
        "outputId": "56e3ed17-bdee-47a9-ecdc-65e91e65029b"
      },
      "source": [
        "!pgrep streamlit"
      ],
      "execution_count": null,
      "outputs": [
        {
          "output_type": "stream",
          "name": "stdout",
          "text": [
            "714\n"
          ]
        }
      ]
    },
    {
      "cell_type": "code",
      "metadata": {
        "id": "81GzXaFGmQYA"
      },
      "source": [
        "from pyngrok import ngrok\n",
        "url = ngrok.connect()\n",
        "ssh_tunnel = ngrok.connect(22, \"tcp\")"
      ],
      "execution_count": null,
      "outputs": []
    },
    {
      "cell_type": "code",
      "metadata": {
        "colab": {
          "base_uri": "https://localhost:8080/"
        },
        "id": "PL3HVN-LmtUO",
        "outputId": "320a7db7-cf3c-41a9-8797-fc31a1c0077a"
      },
      "source": [
        "url"
      ],
      "execution_count": null,
      "outputs": [
        {
          "output_type": "execute_result",
          "data": {
            "text/plain": [
              "<NgrokTunnel: \"http://b62e-35-199-28-108.ngrok.io\" -> \"http://localhost:80\">"
            ]
          },
          "metadata": {},
          "execution_count": 19
        }
      ]
    },
    {
      "cell_type": "code",
      "metadata": {
        "id": "mNXPf8AknC-H"
      },
      "source": [
        "ngrok.kill()"
      ],
      "execution_count": null,
      "outputs": []
    }
  ]
}